{
 "cells": [
  {
   "cell_type": "markdown",
   "id": "3e43282c-44d7-4e3c-a4f1-2ef6712b6079",
   "metadata": {},
   "source": [
    "# LangChain + TextGen API\n",
    "https://python.langchain.com/docs/integrations/llms/textgen\n",
    "\n",
    "## API Reference:\n",
    "\n",
    "* [TextGen](https://api.python.langchain.com/en/latest/llms/langchain.llms.textgen.TextGen.html)"
   ]
  },
  {
   "cell_type": "markdown",
   "id": "5b9f5ef5-8f1c-4fd2-9c58-e105507579ad",
   "metadata": {},
   "source": [
    "## Set model_url and run the example"
   ]
  },
  {
   "cell_type": "code",
   "execution_count": null,
   "id": "8654c3ce-8811-4b66-bacb-9f7dcc51e432",
   "metadata": {
    "tags": []
   },
   "outputs": [],
   "source": [
    "model_url = \"http://localhost:5000\""
   ]
  },
  {
   "cell_type": "code",
   "execution_count": null,
   "id": "8ef8a0cb-d6f1-4059-b500-854a9541987d",
   "metadata": {
    "tags": []
   },
   "outputs": [],
   "source": [
    "import langchain\n",
    "from langchain import PromptTemplate, LLMChain\n",
    "from langchain.llms import TextGen\n",
    "\n",
    "langchain.debug = True\n",
    "\n",
    "template = \"\"\"Question: {question}\n",
    "\n",
    "Answer: Let's think step by step.\"\"\"\n",
    "\n",
    "\n",
    "prompt = PromptTemplate(template=template, input_variables=[\"question\"])\n",
    "llm = TextGen(model_url=model_url)\n",
    "llm_chain = LLMChain(prompt=prompt, llm=llm)\n",
    "question = \"What NFL team won the Super Bowl in the year Justin Bieber was born?\"\n",
    "\n",
    "llm_chain.run(question)"
   ]
  },
  {
   "cell_type": "markdown",
   "id": "458b7a50-06fb-4258-8772-666f9fd7e617",
   "metadata": {
    "tags": []
   },
   "source": [
    "## Streaming Version"
   ]
  },
  {
   "cell_type": "code",
   "execution_count": null,
   "id": "8de7b10e-d161-4174-bb7a-97ae5c467977",
   "metadata": {
    "tags": []
   },
   "outputs": [],
   "source": [
    "model_url = \"ws://localhost:5005\""
   ]
  },
  {
   "cell_type": "code",
   "execution_count": null,
   "id": "fface2b9-5583-4599-b9c7-13f60a33d2ce",
   "metadata": {
    "tags": []
   },
   "outputs": [],
   "source": [
    "import langchain\n",
    "from langchain import PromptTemplate, LLMChain\n",
    "from langchain.llms import TextGen\n",
    "from langchain.callbacks.streaming_stdout import StreamingStdOutCallbackHandler\n",
    "\n",
    "langchain.debug = True\n",
    "\n",
    "template = \"\"\"Question: {question}\n",
    "\n",
    "Answer: Let's think step by step.\"\"\"\n",
    "\n",
    "\n",
    "prompt = PromptTemplate(template=template, input_variables=[\"question\"])\n",
    "llm = TextGen(model_url=model_url, streaming=True, callbacks=[StreamingStdOutCallbackHandler()])\n",
    "llm_chain = LLMChain(prompt=prompt, llm=llm)\n",
    "question = \"What NFL team won the Super Bowl in the year Justin Bieber was born?\"\n",
    "\n",
    "llm_chain.run(question)"
   ]
  }
 ],
 "metadata": {
  "kernelspec": {
   "display_name": "OpenAI",
   "language": "python",
   "name": "openai"
  },
  "language_info": {
   "codemirror_mode": {
    "name": "ipython",
    "version": 3
   },
   "file_extension": ".py",
   "mimetype": "text/x-python",
   "name": "python",
   "nbconvert_exporter": "python",
   "pygments_lexer": "ipython3",
   "version": "3.10.10"
  }
 },
 "nbformat": 4,
 "nbformat_minor": 5
}
